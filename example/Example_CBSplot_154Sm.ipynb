{
 "cells": [
  {
   "cell_type": "markdown",
   "metadata": {},
   "source": [
    "# Example CBSplot #"
   ]
  },
  {
   "cell_type": "code",
   "execution_count": 8,
   "metadata": {},
   "outputs": [],
   "source": [
    "import CBSplot as cbs\n",
    "\n",
    "%matplotlib qt"
   ]
  },
  {
   "cell_type": "markdown",
   "metadata": {},
   "source": [
    "Setup and definition of input files:"
   ]
  },
  {
   "cell_type": "code",
   "execution_count": 9,
   "metadata": {},
   "outputs": [],
   "source": [
    "cbs_154Sm = cbs.CBSplot(nucleus=['Sm',62,92],\n",
    "                    input_file='input_154Sm.cbs',exp_data_file='plot_data_154Sm.ET',write_output=True)"
   ]
  },
  {
   "cell_type": "markdown",
   "metadata": {},
   "source": [
    "Running the claculation using cbsmodel:"
   ]
  },
  {
   "cell_type": "code",
   "execution_count": 10,
   "metadata": {},
   "outputs": [
    {
     "name": "stdout",
     "output_type": "stream",
     "text": [
      "Fit successful!\n"
     ]
    }
   ],
   "source": [
    "cbs_154Sm.run()"
   ]
  },
  {
   "cell_type": "markdown",
   "metadata": {},
   "source": [
    "Plotting the resulting levelschemes:"
   ]
  },
  {
   "cell_type": "code",
   "execution_count": 11,
   "metadata": {},
   "outputs": [],
   "source": [
    "cbs_154Sm.plot()"
   ]
  },
  {
   "cell_type": "markdown",
   "metadata": {},
   "source": [
    "Obtain CBS fit parameters and reduced chisquare:"
   ]
  },
  {
   "cell_type": "code",
   "execution_count": 19,
   "metadata": {},
   "outputs": [
    {
     "name": "stdout",
     "output_type": "stream",
     "text": [
      "CBS parameters (with uncertainties)\n",
      "[3.62539e-01 3.20509e-04 2.83450e-02 8.58572e-06 4.76418e-01 1.35686e-03]\n",
      "CBS reduced chisquare\n",
      "47.2668\n"
     ]
    }
   ],
   "source": [
    "print('CBS parameters (with uncertainties)')\n",
    "print(cbs_154Sm.fit_params)\n",
    "print('CBS reduced chisquare')\n",
    "print(cbs_154Sm.red_chi)"
   ]
  },
  {
   "cell_type": "markdown",
   "metadata": {},
   "source": [
    "Obtain experimental quantites used for plotting:"
   ]
  },
  {
   "cell_type": "code",
   "execution_count": 20,
   "metadata": {},
   "outputs": [
    {
     "name": "stdout",
     "output_type": "stream",
     "text": [
      "Experiment energies:\n",
      "[[0.000e+00 0.000e+00 0.000e+00 1.000e+00]\n",
      " [2.000e+00 0.000e+00 8.200e+01 1.000e+00]\n",
      " [4.000e+00 0.000e+00 2.670e+02 1.000e+00]\n",
      " [6.000e+00 0.000e+00 5.440e+02 1.000e+00]\n",
      " [8.000e+00 0.000e+00 9.030e+02 1.000e+00]\n",
      " [1.000e+01 0.000e+00 1.333e+03 1.000e+00]\n",
      " [0.000e+00 1.000e+00 1.099e+03 1.000e+00]\n",
      " [2.000e+00 1.000e+00 1.178e+03 1.000e+00]\n",
      " [4.000e+00 1.000e+00 1.338e+03 1.000e+00]]\n",
      "Experiment BE2:\n",
      "[[  2.   0.   0.   0. 176.   1.]\n",
      " [  4.   0.   2.   0. 245.   6.]\n",
      " [  6.   0.   4.   0. 289.   8.]\n",
      " [  8.   0.   6.   0. 319.  17.]\n",
      " [ 10.   0.   8.   0. 314.  16.]\n",
      " [  0.   1.   2.   0.  12.   3.]]\n",
      "Experiment rho2E0:\n",
      "[]\n"
     ]
    }
   ],
   "source": [
    "print('Experiment energies:')\n",
    "print(cbs_154Sm.exp_energies)\n",
    "print('Experiment BE2:')\n",
    "print(cbs_154Sm.exp_BE2)\n",
    "print('Experiment rho2E0:')\n",
    "print(cbs_154Sm.exp_rho2E0)"
   ]
  },
  {
   "cell_type": "markdown",
   "metadata": {},
   "source": [
    "Obtain the calculated quantites:"
   ]
  },
  {
   "cell_type": "code",
   "execution_count": 21,
   "metadata": {},
   "outputs": [
    {
     "name": "stdout",
     "output_type": "stream",
     "text": [
      "CBS energies:\n",
      "[[0.00000e+00 0.00000e+00 0.00000e+00]\n",
      " [2.00000e+00 0.00000e+00 8.13654e+01]\n",
      " [4.00000e+00 0.00000e+00 2.66292e+02]\n",
      " [6.00000e+00 0.00000e+00 5.44471e+02]\n",
      " [8.00000e+00 0.00000e+00 9.03617e+02]\n",
      " [1.00000e+01 0.00000e+00 1.33296e+03]\n",
      " [0.00000e+00 1.00000e+00 1.29549e+03]\n",
      " [2.00000e+00 1.00000e+00 1.38828e+03]\n",
      " [4.00000e+00 1.00000e+00 1.60501e+03]\n",
      " [6.00000e+00 1.00000e+00 1.94497e+03]]\n",
      "CBS BE2:\n",
      "[[  2.      0.      0.      0.    176.002]\n",
      " [  4.      0.      2.      0.    256.91 ]\n",
      " [  6.      0.      4.      0.    293.259]\n",
      " [  8.      0.      6.      0.    321.077]\n",
      " [ 10.      0.      8.      0.    345.978]\n",
      " [  2.      1.      0.      1.    171.157]\n",
      " [  4.      1.      2.      1.    242.705]\n",
      " [  6.      1.      4.      1.    264.811]]\n",
      "CBS ME2:\n",
      "None\n",
      "CBS rho2E0:\n",
      "[[  0.      1.      0.      0.    276.462]]\n"
     ]
    }
   ],
   "source": [
    "print('CBS energies:')\n",
    "print(cbs_154Sm.cbs_energies)\n",
    "print('CBS BE2:')\n",
    "print(cbs_154Sm.cbs_BE2)\n",
    "print('CBS ME2:')\n",
    "print(cbs_154Sm.cbs_ME2)\n",
    "print('CBS rho2E0:')\n",
    "print(cbs_154Sm.cbs_rho2E0)"
   ]
  },
  {
   "cell_type": "code",
   "execution_count": null,
   "metadata": {},
   "outputs": [],
   "source": []
  }
 ],
 "metadata": {
  "kernelspec": {
   "display_name": "Python 3",
   "language": "python",
   "name": "python3"
  },
  "language_info": {
   "codemirror_mode": {
    "name": "ipython",
    "version": 3
   },
   "file_extension": ".py",
   "mimetype": "text/x-python",
   "name": "python",
   "nbconvert_exporter": "python",
   "pygments_lexer": "ipython3",
   "version": "3.7.6"
  }
 },
 "nbformat": 4,
 "nbformat_minor": 4
}
